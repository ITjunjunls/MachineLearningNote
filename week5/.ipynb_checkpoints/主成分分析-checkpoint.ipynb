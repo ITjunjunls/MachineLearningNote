{
 "cells": [
  {
   "cell_type": "markdown",
   "id": "0c47c456",
   "metadata": {},
   "source": [
    "# 主成分分析 PCA(Principal components analysis)\n",
    "## 数据降维 Dimensionality Reduction\n",
    "    指在某些限定条件下，降低随机变量的个数，得到一组“不相关”主变量的过程。例如有十七个指标，降维成三个新的指标（根据十七个指标的性质计算），准确率仍然很高。\n",
    "    从4D降到2D,实现可视化.\n",
    "## 主成分分析 主成分分析是数据降维技术中应用最多的方法\n",
    "    寻找K维新数据,使他们反应事物主要特征,在信息损失尽可能少的情况下\n",
    "    投影后不同特征数据尽可能分散。"
   ]
  }
 ],
 "metadata": {
  "kernelspec": {
   "display_name": "Python 3",
   "language": "python",
   "name": "python3"
  },
  "language_info": {
   "codemirror_mode": {
    "name": "ipython",
    "version": 3
   },
   "file_extension": ".py",
   "mimetype": "text/x-python",
   "name": "python",
   "nbconvert_exporter": "python",
   "pygments_lexer": "ipython3",
   "version": "3.9.4"
  }
 },
 "nbformat": 4,
 "nbformat_minor": 5
}
