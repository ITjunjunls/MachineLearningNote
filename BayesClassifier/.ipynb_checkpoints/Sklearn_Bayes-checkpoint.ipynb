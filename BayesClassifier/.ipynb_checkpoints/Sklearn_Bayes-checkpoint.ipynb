{
 "cells": [
  {
   "cell_type": "code",
   "execution_count": 3,
   "id": "7876c6f7",
   "metadata": {},
   "outputs": [],
   "source": [
    "import numpy as np\n",
    "import pandas as pd\n",
    "from sklearn.model_selection import train_test_split\n",
    "from sklearn.naive_bayes import GaussianNB"
   ]
  },
  {
   "cell_type": "code",
   "execution_count": null,
   "id": "bc1383d8",
   "metadata": {},
   "outputs": [],
   "source": [
    "#读取数据集并清洗\n",
    "def process_data():\n",
    "    pd.read_csv('bank_full.csv', delimiter=';')\n",
    "    #数据清洗，删除空值\n",
    "    data = data.dropna()\n",
    "    #获取keys\n",
    "    keys = data.keys()\n",
    "    keys.drop([\"day\",\"month\",\"pday\"])\n",
    "    #将文本数据换为数字类别\n",
    "    "
   ]
  }
 ],
 "metadata": {
  "kernelspec": {
   "display_name": "Python 3",
   "language": "python",
   "name": "python3"
  },
  "language_info": {
   "codemirror_mode": {
    "name": "ipython",
    "version": 3
   },
   "file_extension": ".py",
   "mimetype": "text/x-python",
   "name": "python",
   "nbconvert_exporter": "python",
   "pygments_lexer": "ipython3",
   "version": "3.9.4"
  }
 },
 "nbformat": 4,
 "nbformat_minor": 5
}
